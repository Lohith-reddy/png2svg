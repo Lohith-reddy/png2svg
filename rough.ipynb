{
 "cells": [
  {
   "cell_type": "code",
   "execution_count": 3,
   "metadata": {},
   "outputs": [],
   "source": [
    "import requests\n",
    "from bs4 import BeautifulSoup as bs\n",
    "import re\n"
   ]
  },
  {
   "cell_type": "code",
   "execution_count": 4,
   "metadata": {},
   "outputs": [],
   "source": [
    "url = \"https://undraw.co/illustrations\""
   ]
  },
  {
   "cell_type": "code",
   "execution_count": 5,
   "metadata": {},
   "outputs": [],
   "source": [
    "def get_soup(x):\n",
    "    return bs(requests.get(x).text, \"html.parser\")"
   ]
  },
  {
   "cell_type": "code",
   "execution_count": 9,
   "metadata": {},
   "outputs": [],
   "source": [
    "page_ext =\"?page=\""
   ]
  },
  {
   "cell_type": "code",
   "execution_count": 59,
   "metadata": {},
   "outputs": [],
   "source": [
    "svg = []\n",
    "for i in range(0,2):\n",
    "    url = \"https://undraw.co/illustrations\"\n",
    "    if i == 0:\n",
    "        url = url\n",
    "    else:\n",
    "        url = url + page_ext + str(i)\n",
    "    for link in get_soup(url).find_all('div', \"ClassicGrid__Media-sc-td9pmq-2 ffqsDq\"):\n",
    "        link = str(link)\n",
    "        svg.append(re.search(r'data-src=\"([^\"]*)', link).group(1))\n",
    "        "
   ]
  },
  {
   "cell_type": "code",
   "execution_count": 63,
   "metadata": {},
   "outputs": [
    {
     "data": {
      "text/plain": [
       "str"
      ]
     },
     "execution_count": 63,
     "metadata": {},
     "output_type": "execute_result"
    }
   ],
   "source": [
    "type(svg[0])"
   ]
  },
  {
   "cell_type": "code",
   "execution_count": 62,
   "metadata": {},
   "outputs": [
    {
     "data": {
      "text/plain": [
       "'https://42f2671d685f51e10fc6-b9fcecea3e50b3b59bdc28dead054ebc.ssl.cf5.rackcdn.com/illustrations/In_love_6sq2.svg'"
      ]
     },
     "execution_count": 62,
     "metadata": {},
     "output_type": "execute_result"
    }
   ],
   "source": [
    "svg[-1]"
   ]
  },
  {
   "cell_type": "code",
   "execution_count": 92,
   "metadata": {},
   "outputs": [],
   "source": [
    "svg = []\n",
    "for i in range(0,2):\n",
    "    url = \"https://undraw.co/illustrations\"\n",
    "    if i == 0:\n",
    "        url = url\n",
    "    else:\n",
    "        url = url + page_ext + str(i)\n",
    "    for link in get_soup(url).find_all('div', \"ClassicGrid__Content-sc-td9pmq-3 jCxkJm\"):\n",
    "        link = str(link)\n",
    "        svg.append(link.split(\">\")[1].split(\"<\")[0])\n",
    "\n",
    "        "
   ]
  },
  {
   "cell_type": "code",
   "execution_count": 93,
   "metadata": {},
   "outputs": [
    {
     "data": {
      "text/plain": [
       "['Completion Progress',\n",
       " 'Team Effort',\n",
       " 'Watch Notification',\n",
       " 'Walking Together',\n",
       " 'Users Per Minute',\n",
       " 'Shopping Bags',\n",
       " 'Selected Box',\n",
       " 'Flying drone',\n",
       " 'Search engines',\n",
       " 'Completed',\n",
       " 'Love it',\n",
       " 'Walking In Rain',\n",
       " 'Mobile Content',\n",
       " 'Businessman',\n",
       " 'Barista',\n",
       " 'Playing Golf',\n",
       " 'Coffee Time',\n",
       " 'Drink coffee',\n",
       " 'Expecting',\n",
       " 'In love',\n",
       " 'Completion Progress',\n",
       " 'Team Effort',\n",
       " 'Watch Notification',\n",
       " 'Walking Together',\n",
       " 'Users Per Minute',\n",
       " 'Shopping Bags',\n",
       " 'Selected Box',\n",
       " 'Flying drone',\n",
       " 'Search engines',\n",
       " 'Completed',\n",
       " 'Love it',\n",
       " 'Walking In Rain',\n",
       " 'Mobile Content',\n",
       " 'Businessman',\n",
       " 'Barista',\n",
       " 'Playing Golf',\n",
       " 'Coffee Time',\n",
       " 'Drink coffee',\n",
       " 'Expecting',\n",
       " 'In love']"
      ]
     },
     "execution_count": 93,
     "metadata": {},
     "output_type": "execute_result"
    }
   ],
   "source": [
    "svg"
   ]
  },
  {
   "cell_type": "code",
   "execution_count": 91,
   "metadata": {},
   "outputs": [
    {
     "data": {
      "text/plain": [
       "'Team Effort'"
      ]
     },
     "execution_count": 91,
     "metadata": {},
     "output_type": "execute_result"
    }
   ],
   "source": [
    "svg[1].split(\">\")[1].split(\"<\")[0]"
   ]
  },
  {
   "cell_type": "code",
   "execution_count": 73,
   "metadata": {},
   "outputs": [
    {
     "ename": "AttributeError",
     "evalue": "'NoneType' object has no attribute 'group'",
     "output_type": "error",
     "traceback": [
      "\u001b[1;31m---------------------------------------------------------------------------\u001b[0m",
      "\u001b[1;31mAttributeError\u001b[0m                            Traceback (most recent call last)",
      "\u001b[1;32md:\\Work\\Projects\\Wiki_reader_multi_threader\\rough.ipynb Cell 11\u001b[0m line \u001b[0;36m1\n\u001b[1;32m----> <a href='vscode-notebook-cell:/d%3A/Work/Projects/Wiki_reader_multi_threader/rough.ipynb#X31sZmlsZQ%3D%3D?line=0'>1</a>\u001b[0m re\u001b[39m.\u001b[39;49msearch(\u001b[39mr\u001b[39;49m\u001b[39m'\u001b[39;49m\u001b[39mdata-src=\u001b[39;49m\u001b[39m\"\u001b[39;49m\u001b[39m([^>]*[^<])\u001b[39;49m\u001b[39m'\u001b[39;49m, link)\u001b[39m.\u001b[39;49mgroup(\u001b[39m1\u001b[39m)\n",
      "\u001b[1;31mAttributeError\u001b[0m: 'NoneType' object has no attribute 'group'"
     ]
    }
   ],
   "source": [
    "re.search(r'data-src=\"([^>]*[^<])', link).group(1)"
   ]
  }
 ],
 "metadata": {
  "kernelspec": {
   "display_name": "venv",
   "language": "python",
   "name": "python3"
  },
  "language_info": {
   "codemirror_mode": {
    "name": "ipython",
    "version": 3
   },
   "file_extension": ".py",
   "mimetype": "text/x-python",
   "name": "python",
   "nbconvert_exporter": "python",
   "pygments_lexer": "ipython3",
   "version": "3.11.4"
  }
 },
 "nbformat": 4,
 "nbformat_minor": 2
}
