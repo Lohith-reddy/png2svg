{
 "cells": [
  {
   "cell_type": "code",
   "execution_count": 31,
   "metadata": {},
   "outputs": [],
   "source": [
    "import requests\n",
    "from bs4 import BeautifulSoup as bs\n",
    "import re\n",
    "import json"
   ]
  },
  {
   "cell_type": "code",
   "execution_count": 3,
   "metadata": {},
   "outputs": [],
   "source": [
    "url = \"https://undraw.co/illustrations\""
   ]
  },
  {
   "cell_type": "code",
   "execution_count": 4,
   "metadata": {},
   "outputs": [],
   "source": [
    "def get_soup(x):\n",
    "    return bs(requests.get(x).text, \"html.parser\")"
   ]
  },
  {
   "cell_type": "code",
   "execution_count": 5,
   "metadata": {},
   "outputs": [],
   "source": [
    "page_ext =\"?page=\""
   ]
  },
  {
   "cell_type": "code",
   "execution_count": 6,
   "metadata": {},
   "outputs": [],
   "source": [
    "svg = []\n",
    "for i in range(0,5):\n",
    "    url = \"https://undraw.co/illustrations\"\n",
    "    if i == 0:\n",
    "        url = url\n",
    "    else:\n",
    "        url = url + page_ext + str(i)\n",
    "    for link in get_soup(url).find_all('div', \"ClassicGrid__Media-sc-td9pmq-2 ffqsDq\"):\n",
    "        link = str(link)\n",
    "        svg.append(re.search(r'data-src=\"([^\"]*)', link).group(1))\n",
    "        "
   ]
  },
  {
   "cell_type": "code",
   "execution_count": 7,
   "metadata": {},
   "outputs": [
    {
     "data": {
      "text/plain": [
       "20"
      ]
     },
     "execution_count": 7,
     "metadata": {},
     "output_type": "execute_result"
    }
   ],
   "source": [
    "len(set(svg))"
   ]
  },
  {
   "cell_type": "code",
   "execution_count": 8,
   "metadata": {},
   "outputs": [
    {
     "data": {
      "text/plain": [
       "['https://42f2671d685f51e10fc6-b9fcecea3e50b3b59bdc28dead054ebc.ssl.cf5.rackcdn.com/illustrations/undraw_undraw_undraw_undraw_completion_iqwr_-1-_i0cm_-1-_dai9_-1-_79hl_(1)_mo5e.svg',\n",
       " 'https://42f2671d685f51e10fc6-b9fcecea3e50b3b59bdc28dead054ebc.ssl.cf5.rackcdn.com/illustrations/undraw_undraw_undraw_undraw_team_effort_7w2e_bb6b_2vmj_-1-_so6y_(1)_1grv.svg',\n",
       " 'https://42f2671d685f51e10fc6-b9fcecea3e50b3b59bdc28dead054ebc.ssl.cf5.rackcdn.com/illustrations/undraw_undraw_watch_notification_8mf3_-1-_rq1y_(1)_ifk0.svg',\n",
       " 'https://42f2671d685f51e10fc6-b9fcecea3e50b3b59bdc28dead054ebc.ssl.cf5.rackcdn.com/illustrations/undraw_walking_together_p0e5_jhmm.svg',\n",
       " 'https://42f2671d685f51e10fc6-b9fcecea3e50b3b59bdc28dead054ebc.ssl.cf5.rackcdn.com/illustrations/undraw_undraw_undraw_users_per_minute_1e4q_t22j_-1-_2ulq_r6k1.svg',\n",
       " 'https://42f2671d685f51e10fc6-b9fcecea3e50b3b59bdc28dead054ebc.ssl.cf5.rackcdn.com/illustrations/undraw_shopping_bags_2ude_(1)_mnw3.svg',\n",
       " 'https://42f2671d685f51e10fc6-b9fcecea3e50b3b59bdc28dead054ebc.ssl.cf5.rackcdn.com/illustrations/selected_box_09k4.svg',\n",
       " 'https://42f2671d685f51e10fc6-b9fcecea3e50b3b59bdc28dead054ebc.ssl.cf5.rackcdn.com/illustrations/undraw_flying_drone_u3r2_(3)_egfy.svg',\n",
       " 'https://42f2671d685f51e10fc6-b9fcecea3e50b3b59bdc28dead054ebc.ssl.cf5.rackcdn.com/illustrations/undraw_undraw_search_engines_041x_-2-_cl95_fiwb.svg',\n",
       " 'https://42f2671d685f51e10fc6-b9fcecea3e50b3b59bdc28dead054ebc.ssl.cf5.rackcdn.com/illustrations/Completed_m9ci.svg',\n",
       " 'https://42f2671d685f51e10fc6-b9fcecea3e50b3b59bdc28dead054ebc.ssl.cf5.rackcdn.com/illustrations/Love_it_xkc2.svg',\n",
       " 'https://42f2671d685f51e10fc6-b9fcecea3e50b3b59bdc28dead054ebc.ssl.cf5.rackcdn.com/illustrations/walking_in_rain_vo9p.svg',\n",
       " 'https://42f2671d685f51e10fc6-b9fcecea3e50b3b59bdc28dead054ebc.ssl.cf5.rackcdn.com/illustrations/mobile_content_xvgr.svg',\n",
       " 'https://42f2671d685f51e10fc6-b9fcecea3e50b3b59bdc28dead054ebc.ssl.cf5.rackcdn.com/illustrations/businessman_e7v0.svg',\n",
       " 'https://42f2671d685f51e10fc6-b9fcecea3e50b3b59bdc28dead054ebc.ssl.cf5.rackcdn.com/illustrations/Barista_qd50.svg',\n",
       " 'https://42f2671d685f51e10fc6-b9fcecea3e50b3b59bdc28dead054ebc.ssl.cf5.rackcdn.com/illustrations/playing_golf_sdt3.svg',\n",
       " 'https://42f2671d685f51e10fc6-b9fcecea3e50b3b59bdc28dead054ebc.ssl.cf5.rackcdn.com/illustrations/Coffee_Time_e8cw.svg',\n",
       " 'https://42f2671d685f51e10fc6-b9fcecea3e50b3b59bdc28dead054ebc.ssl.cf5.rackcdn.com/illustrations/Drink_coffee_v3au.svg',\n",
       " 'https://42f2671d685f51e10fc6-b9fcecea3e50b3b59bdc28dead054ebc.ssl.cf5.rackcdn.com/illustrations/expecting_l6j1.svg',\n",
       " 'https://42f2671d685f51e10fc6-b9fcecea3e50b3b59bdc28dead054ebc.ssl.cf5.rackcdn.com/illustrations/In_love_6sq2.svg',\n",
       " 'https://42f2671d685f51e10fc6-b9fcecea3e50b3b59bdc28dead054ebc.ssl.cf5.rackcdn.com/illustrations/undraw_undraw_undraw_undraw_completion_iqwr_-1-_i0cm_-1-_dai9_-1-_79hl_(1)_mo5e.svg',\n",
       " 'https://42f2671d685f51e10fc6-b9fcecea3e50b3b59bdc28dead054ebc.ssl.cf5.rackcdn.com/illustrations/undraw_undraw_undraw_undraw_team_effort_7w2e_bb6b_2vmj_-1-_so6y_(1)_1grv.svg',\n",
       " 'https://42f2671d685f51e10fc6-b9fcecea3e50b3b59bdc28dead054ebc.ssl.cf5.rackcdn.com/illustrations/undraw_undraw_watch_notification_8mf3_-1-_rq1y_(1)_ifk0.svg',\n",
       " 'https://42f2671d685f51e10fc6-b9fcecea3e50b3b59bdc28dead054ebc.ssl.cf5.rackcdn.com/illustrations/undraw_walking_together_p0e5_jhmm.svg',\n",
       " 'https://42f2671d685f51e10fc6-b9fcecea3e50b3b59bdc28dead054ebc.ssl.cf5.rackcdn.com/illustrations/undraw_undraw_undraw_users_per_minute_1e4q_t22j_-1-_2ulq_r6k1.svg',\n",
       " 'https://42f2671d685f51e10fc6-b9fcecea3e50b3b59bdc28dead054ebc.ssl.cf5.rackcdn.com/illustrations/undraw_shopping_bags_2ude_(1)_mnw3.svg',\n",
       " 'https://42f2671d685f51e10fc6-b9fcecea3e50b3b59bdc28dead054ebc.ssl.cf5.rackcdn.com/illustrations/selected_box_09k4.svg',\n",
       " 'https://42f2671d685f51e10fc6-b9fcecea3e50b3b59bdc28dead054ebc.ssl.cf5.rackcdn.com/illustrations/undraw_flying_drone_u3r2_(3)_egfy.svg',\n",
       " 'https://42f2671d685f51e10fc6-b9fcecea3e50b3b59bdc28dead054ebc.ssl.cf5.rackcdn.com/illustrations/undraw_undraw_search_engines_041x_-2-_cl95_fiwb.svg',\n",
       " 'https://42f2671d685f51e10fc6-b9fcecea3e50b3b59bdc28dead054ebc.ssl.cf5.rackcdn.com/illustrations/Completed_m9ci.svg',\n",
       " 'https://42f2671d685f51e10fc6-b9fcecea3e50b3b59bdc28dead054ebc.ssl.cf5.rackcdn.com/illustrations/Love_it_xkc2.svg',\n",
       " 'https://42f2671d685f51e10fc6-b9fcecea3e50b3b59bdc28dead054ebc.ssl.cf5.rackcdn.com/illustrations/walking_in_rain_vo9p.svg',\n",
       " 'https://42f2671d685f51e10fc6-b9fcecea3e50b3b59bdc28dead054ebc.ssl.cf5.rackcdn.com/illustrations/mobile_content_xvgr.svg',\n",
       " 'https://42f2671d685f51e10fc6-b9fcecea3e50b3b59bdc28dead054ebc.ssl.cf5.rackcdn.com/illustrations/businessman_e7v0.svg',\n",
       " 'https://42f2671d685f51e10fc6-b9fcecea3e50b3b59bdc28dead054ebc.ssl.cf5.rackcdn.com/illustrations/Barista_qd50.svg',\n",
       " 'https://42f2671d685f51e10fc6-b9fcecea3e50b3b59bdc28dead054ebc.ssl.cf5.rackcdn.com/illustrations/playing_golf_sdt3.svg',\n",
       " 'https://42f2671d685f51e10fc6-b9fcecea3e50b3b59bdc28dead054ebc.ssl.cf5.rackcdn.com/illustrations/Coffee_Time_e8cw.svg',\n",
       " 'https://42f2671d685f51e10fc6-b9fcecea3e50b3b59bdc28dead054ebc.ssl.cf5.rackcdn.com/illustrations/Drink_coffee_v3au.svg',\n",
       " 'https://42f2671d685f51e10fc6-b9fcecea3e50b3b59bdc28dead054ebc.ssl.cf5.rackcdn.com/illustrations/expecting_l6j1.svg',\n",
       " 'https://42f2671d685f51e10fc6-b9fcecea3e50b3b59bdc28dead054ebc.ssl.cf5.rackcdn.com/illustrations/In_love_6sq2.svg',\n",
       " 'https://42f2671d685f51e10fc6-b9fcecea3e50b3b59bdc28dead054ebc.ssl.cf5.rackcdn.com/illustrations/undraw_undraw_undraw_undraw_completion_iqwr_-1-_i0cm_-1-_dai9_-1-_79hl_(1)_mo5e.svg',\n",
       " 'https://42f2671d685f51e10fc6-b9fcecea3e50b3b59bdc28dead054ebc.ssl.cf5.rackcdn.com/illustrations/undraw_undraw_undraw_undraw_team_effort_7w2e_bb6b_2vmj_-1-_so6y_(1)_1grv.svg',\n",
       " 'https://42f2671d685f51e10fc6-b9fcecea3e50b3b59bdc28dead054ebc.ssl.cf5.rackcdn.com/illustrations/undraw_undraw_watch_notification_8mf3_-1-_rq1y_(1)_ifk0.svg',\n",
       " 'https://42f2671d685f51e10fc6-b9fcecea3e50b3b59bdc28dead054ebc.ssl.cf5.rackcdn.com/illustrations/undraw_walking_together_p0e5_jhmm.svg',\n",
       " 'https://42f2671d685f51e10fc6-b9fcecea3e50b3b59bdc28dead054ebc.ssl.cf5.rackcdn.com/illustrations/undraw_undraw_undraw_users_per_minute_1e4q_t22j_-1-_2ulq_r6k1.svg',\n",
       " 'https://42f2671d685f51e10fc6-b9fcecea3e50b3b59bdc28dead054ebc.ssl.cf5.rackcdn.com/illustrations/undraw_shopping_bags_2ude_(1)_mnw3.svg',\n",
       " 'https://42f2671d685f51e10fc6-b9fcecea3e50b3b59bdc28dead054ebc.ssl.cf5.rackcdn.com/illustrations/selected_box_09k4.svg',\n",
       " 'https://42f2671d685f51e10fc6-b9fcecea3e50b3b59bdc28dead054ebc.ssl.cf5.rackcdn.com/illustrations/undraw_flying_drone_u3r2_(3)_egfy.svg',\n",
       " 'https://42f2671d685f51e10fc6-b9fcecea3e50b3b59bdc28dead054ebc.ssl.cf5.rackcdn.com/illustrations/undraw_undraw_search_engines_041x_-2-_cl95_fiwb.svg',\n",
       " 'https://42f2671d685f51e10fc6-b9fcecea3e50b3b59bdc28dead054ebc.ssl.cf5.rackcdn.com/illustrations/Completed_m9ci.svg',\n",
       " 'https://42f2671d685f51e10fc6-b9fcecea3e50b3b59bdc28dead054ebc.ssl.cf5.rackcdn.com/illustrations/Love_it_xkc2.svg',\n",
       " 'https://42f2671d685f51e10fc6-b9fcecea3e50b3b59bdc28dead054ebc.ssl.cf5.rackcdn.com/illustrations/walking_in_rain_vo9p.svg',\n",
       " 'https://42f2671d685f51e10fc6-b9fcecea3e50b3b59bdc28dead054ebc.ssl.cf5.rackcdn.com/illustrations/mobile_content_xvgr.svg',\n",
       " 'https://42f2671d685f51e10fc6-b9fcecea3e50b3b59bdc28dead054ebc.ssl.cf5.rackcdn.com/illustrations/businessman_e7v0.svg',\n",
       " 'https://42f2671d685f51e10fc6-b9fcecea3e50b3b59bdc28dead054ebc.ssl.cf5.rackcdn.com/illustrations/Barista_qd50.svg',\n",
       " 'https://42f2671d685f51e10fc6-b9fcecea3e50b3b59bdc28dead054ebc.ssl.cf5.rackcdn.com/illustrations/playing_golf_sdt3.svg',\n",
       " 'https://42f2671d685f51e10fc6-b9fcecea3e50b3b59bdc28dead054ebc.ssl.cf5.rackcdn.com/illustrations/Coffee_Time_e8cw.svg',\n",
       " 'https://42f2671d685f51e10fc6-b9fcecea3e50b3b59bdc28dead054ebc.ssl.cf5.rackcdn.com/illustrations/Drink_coffee_v3au.svg',\n",
       " 'https://42f2671d685f51e10fc6-b9fcecea3e50b3b59bdc28dead054ebc.ssl.cf5.rackcdn.com/illustrations/expecting_l6j1.svg',\n",
       " 'https://42f2671d685f51e10fc6-b9fcecea3e50b3b59bdc28dead054ebc.ssl.cf5.rackcdn.com/illustrations/In_love_6sq2.svg',\n",
       " 'https://42f2671d685f51e10fc6-b9fcecea3e50b3b59bdc28dead054ebc.ssl.cf5.rackcdn.com/illustrations/undraw_undraw_undraw_undraw_completion_iqwr_-1-_i0cm_-1-_dai9_-1-_79hl_(1)_mo5e.svg',\n",
       " 'https://42f2671d685f51e10fc6-b9fcecea3e50b3b59bdc28dead054ebc.ssl.cf5.rackcdn.com/illustrations/undraw_undraw_undraw_undraw_team_effort_7w2e_bb6b_2vmj_-1-_so6y_(1)_1grv.svg',\n",
       " 'https://42f2671d685f51e10fc6-b9fcecea3e50b3b59bdc28dead054ebc.ssl.cf5.rackcdn.com/illustrations/undraw_undraw_watch_notification_8mf3_-1-_rq1y_(1)_ifk0.svg',\n",
       " 'https://42f2671d685f51e10fc6-b9fcecea3e50b3b59bdc28dead054ebc.ssl.cf5.rackcdn.com/illustrations/undraw_walking_together_p0e5_jhmm.svg',\n",
       " 'https://42f2671d685f51e10fc6-b9fcecea3e50b3b59bdc28dead054ebc.ssl.cf5.rackcdn.com/illustrations/undraw_undraw_undraw_users_per_minute_1e4q_t22j_-1-_2ulq_r6k1.svg',\n",
       " 'https://42f2671d685f51e10fc6-b9fcecea3e50b3b59bdc28dead054ebc.ssl.cf5.rackcdn.com/illustrations/undraw_shopping_bags_2ude_(1)_mnw3.svg',\n",
       " 'https://42f2671d685f51e10fc6-b9fcecea3e50b3b59bdc28dead054ebc.ssl.cf5.rackcdn.com/illustrations/selected_box_09k4.svg',\n",
       " 'https://42f2671d685f51e10fc6-b9fcecea3e50b3b59bdc28dead054ebc.ssl.cf5.rackcdn.com/illustrations/undraw_flying_drone_u3r2_(3)_egfy.svg',\n",
       " 'https://42f2671d685f51e10fc6-b9fcecea3e50b3b59bdc28dead054ebc.ssl.cf5.rackcdn.com/illustrations/undraw_undraw_search_engines_041x_-2-_cl95_fiwb.svg',\n",
       " 'https://42f2671d685f51e10fc6-b9fcecea3e50b3b59bdc28dead054ebc.ssl.cf5.rackcdn.com/illustrations/Completed_m9ci.svg',\n",
       " 'https://42f2671d685f51e10fc6-b9fcecea3e50b3b59bdc28dead054ebc.ssl.cf5.rackcdn.com/illustrations/Love_it_xkc2.svg',\n",
       " 'https://42f2671d685f51e10fc6-b9fcecea3e50b3b59bdc28dead054ebc.ssl.cf5.rackcdn.com/illustrations/walking_in_rain_vo9p.svg',\n",
       " 'https://42f2671d685f51e10fc6-b9fcecea3e50b3b59bdc28dead054ebc.ssl.cf5.rackcdn.com/illustrations/mobile_content_xvgr.svg',\n",
       " 'https://42f2671d685f51e10fc6-b9fcecea3e50b3b59bdc28dead054ebc.ssl.cf5.rackcdn.com/illustrations/businessman_e7v0.svg',\n",
       " 'https://42f2671d685f51e10fc6-b9fcecea3e50b3b59bdc28dead054ebc.ssl.cf5.rackcdn.com/illustrations/Barista_qd50.svg',\n",
       " 'https://42f2671d685f51e10fc6-b9fcecea3e50b3b59bdc28dead054ebc.ssl.cf5.rackcdn.com/illustrations/playing_golf_sdt3.svg',\n",
       " 'https://42f2671d685f51e10fc6-b9fcecea3e50b3b59bdc28dead054ebc.ssl.cf5.rackcdn.com/illustrations/Coffee_Time_e8cw.svg',\n",
       " 'https://42f2671d685f51e10fc6-b9fcecea3e50b3b59bdc28dead054ebc.ssl.cf5.rackcdn.com/illustrations/Drink_coffee_v3au.svg',\n",
       " 'https://42f2671d685f51e10fc6-b9fcecea3e50b3b59bdc28dead054ebc.ssl.cf5.rackcdn.com/illustrations/expecting_l6j1.svg',\n",
       " 'https://42f2671d685f51e10fc6-b9fcecea3e50b3b59bdc28dead054ebc.ssl.cf5.rackcdn.com/illustrations/In_love_6sq2.svg',\n",
       " 'https://42f2671d685f51e10fc6-b9fcecea3e50b3b59bdc28dead054ebc.ssl.cf5.rackcdn.com/illustrations/undraw_undraw_undraw_undraw_completion_iqwr_-1-_i0cm_-1-_dai9_-1-_79hl_(1)_mo5e.svg',\n",
       " 'https://42f2671d685f51e10fc6-b9fcecea3e50b3b59bdc28dead054ebc.ssl.cf5.rackcdn.com/illustrations/undraw_undraw_undraw_undraw_team_effort_7w2e_bb6b_2vmj_-1-_so6y_(1)_1grv.svg',\n",
       " 'https://42f2671d685f51e10fc6-b9fcecea3e50b3b59bdc28dead054ebc.ssl.cf5.rackcdn.com/illustrations/undraw_undraw_watch_notification_8mf3_-1-_rq1y_(1)_ifk0.svg',\n",
       " 'https://42f2671d685f51e10fc6-b9fcecea3e50b3b59bdc28dead054ebc.ssl.cf5.rackcdn.com/illustrations/undraw_walking_together_p0e5_jhmm.svg',\n",
       " 'https://42f2671d685f51e10fc6-b9fcecea3e50b3b59bdc28dead054ebc.ssl.cf5.rackcdn.com/illustrations/undraw_undraw_undraw_users_per_minute_1e4q_t22j_-1-_2ulq_r6k1.svg',\n",
       " 'https://42f2671d685f51e10fc6-b9fcecea3e50b3b59bdc28dead054ebc.ssl.cf5.rackcdn.com/illustrations/undraw_shopping_bags_2ude_(1)_mnw3.svg',\n",
       " 'https://42f2671d685f51e10fc6-b9fcecea3e50b3b59bdc28dead054ebc.ssl.cf5.rackcdn.com/illustrations/selected_box_09k4.svg',\n",
       " 'https://42f2671d685f51e10fc6-b9fcecea3e50b3b59bdc28dead054ebc.ssl.cf5.rackcdn.com/illustrations/undraw_flying_drone_u3r2_(3)_egfy.svg',\n",
       " 'https://42f2671d685f51e10fc6-b9fcecea3e50b3b59bdc28dead054ebc.ssl.cf5.rackcdn.com/illustrations/undraw_undraw_search_engines_041x_-2-_cl95_fiwb.svg',\n",
       " 'https://42f2671d685f51e10fc6-b9fcecea3e50b3b59bdc28dead054ebc.ssl.cf5.rackcdn.com/illustrations/Completed_m9ci.svg',\n",
       " 'https://42f2671d685f51e10fc6-b9fcecea3e50b3b59bdc28dead054ebc.ssl.cf5.rackcdn.com/illustrations/Love_it_xkc2.svg',\n",
       " 'https://42f2671d685f51e10fc6-b9fcecea3e50b3b59bdc28dead054ebc.ssl.cf5.rackcdn.com/illustrations/walking_in_rain_vo9p.svg',\n",
       " 'https://42f2671d685f51e10fc6-b9fcecea3e50b3b59bdc28dead054ebc.ssl.cf5.rackcdn.com/illustrations/mobile_content_xvgr.svg',\n",
       " 'https://42f2671d685f51e10fc6-b9fcecea3e50b3b59bdc28dead054ebc.ssl.cf5.rackcdn.com/illustrations/businessman_e7v0.svg',\n",
       " 'https://42f2671d685f51e10fc6-b9fcecea3e50b3b59bdc28dead054ebc.ssl.cf5.rackcdn.com/illustrations/Barista_qd50.svg',\n",
       " 'https://42f2671d685f51e10fc6-b9fcecea3e50b3b59bdc28dead054ebc.ssl.cf5.rackcdn.com/illustrations/playing_golf_sdt3.svg',\n",
       " 'https://42f2671d685f51e10fc6-b9fcecea3e50b3b59bdc28dead054ebc.ssl.cf5.rackcdn.com/illustrations/Coffee_Time_e8cw.svg',\n",
       " 'https://42f2671d685f51e10fc6-b9fcecea3e50b3b59bdc28dead054ebc.ssl.cf5.rackcdn.com/illustrations/Drink_coffee_v3au.svg',\n",
       " 'https://42f2671d685f51e10fc6-b9fcecea3e50b3b59bdc28dead054ebc.ssl.cf5.rackcdn.com/illustrations/expecting_l6j1.svg',\n",
       " 'https://42f2671d685f51e10fc6-b9fcecea3e50b3b59bdc28dead054ebc.ssl.cf5.rackcdn.com/illustrations/In_love_6sq2.svg']"
      ]
     },
     "execution_count": 8,
     "metadata": {},
     "output_type": "execute_result"
    }
   ],
   "source": [
    "svg"
   ]
  },
  {
   "cell_type": "code",
   "execution_count": 12,
   "metadata": {},
   "outputs": [],
   "source": [
    "svg = []\n",
    "for i in range(0,5):\n",
    "    url = \"https://undraw.co/illustrations\"\n",
    "    if i == 0:\n",
    "        url = url\n",
    "        for link in get_soup(url).find_all('div', \"ClassicGrid__Content-sc-td9pmq-3 jCxkJm\"):\n",
    "            link = str(link)\n",
    "            svg.append(link.split(\">\")[1].split(\"<\")[0])\n",
    "    else:\n",
    "        url = \"https://undraw.co/api/illustrations\"\n",
    "        url = url + page_ext + str(i)\n",
    "        link = get_soup(url)\n",
    "        link = str(link)\n",
    "        link = json.loads(link)\n",
    "        for obj in range(len(link[\"illos\"])):\n",
    "            svg.append(link[\"illos\"][obj][\"image\"])\n",
    "            names.append(link[\"illos\"][obj][\"title\"])\n",
    "\n",
    "        "
   ]
  },
  {
   "cell_type": "code",
   "execution_count": 13,
   "metadata": {},
   "outputs": [
    {
     "data": {
      "text/plain": [
       "20"
      ]
     },
     "execution_count": 13,
     "metadata": {},
     "output_type": "execute_result"
    }
   ],
   "source": [
    "len(set(svg))"
   ]
  },
  {
   "cell_type": "code",
   "execution_count": 91,
   "metadata": {},
   "outputs": [
    {
     "data": {
      "text/plain": [
       "'Team Effort'"
      ]
     },
     "execution_count": 91,
     "metadata": {},
     "output_type": "execute_result"
    }
   ],
   "source": [
    "svg[1].split(\">\")[1].split(\"<\")[0]"
   ]
  },
  {
   "cell_type": "code",
   "execution_count": 73,
   "metadata": {},
   "outputs": [
    {
     "ename": "AttributeError",
     "evalue": "'NoneType' object has no attribute 'group'",
     "output_type": "error",
     "traceback": [
      "\u001b[1;31m---------------------------------------------------------------------------\u001b[0m",
      "\u001b[1;31mAttributeError\u001b[0m                            Traceback (most recent call last)",
      "\u001b[1;32md:\\Work\\Projects\\Wiki_reader_multi_threader\\rough.ipynb Cell 11\u001b[0m line \u001b[0;36m1\n\u001b[1;32m----> <a href='vscode-notebook-cell:/d%3A/Work/Projects/Wiki_reader_multi_threader/rough.ipynb#X31sZmlsZQ%3D%3D?line=0'>1</a>\u001b[0m re\u001b[39m.\u001b[39;49msearch(\u001b[39mr\u001b[39;49m\u001b[39m'\u001b[39;49m\u001b[39mdata-src=\u001b[39;49m\u001b[39m\"\u001b[39;49m\u001b[39m([^>]*[^<])\u001b[39;49m\u001b[39m'\u001b[39;49m, link)\u001b[39m.\u001b[39;49mgroup(\u001b[39m1\u001b[39m)\n",
      "\u001b[1;31mAttributeError\u001b[0m: 'NoneType' object has no attribute 'group'"
     ]
    }
   ],
   "source": [
    "re.search(r'data-src=\"([^>]*[^<])', link).group(1)"
   ]
  },
  {
   "cell_type": "code",
   "execution_count": null,
   "metadata": {},
   "outputs": [],
   "source": [
    "https://www.google-analytics.com/g/collect?v=2&tid=G-1R8SGFF7XV&gtm=45je3b11v9123941563&_p=1699079557387&gcd=11l1l1l1l2&ul=en-us&sr=1280x720&cid=43738099.1699024562&ir=1&uaa=x86&uab=64&uafvl=Google%2520Chrome%3B119.0.6045.105%7CChromium%3B119.0.6045.105%7CNot%253FA_Brand%3B24.0.0.0&uamb=0&uam=&uap=Windows&uapv=15.0.0&uaw=0&are=1&_eu=EBAI&_s=2&dl=https%3A%2F%2Fundraw.co%2Fillustrations&dp=%2Fillustrations&dt=Illustrations%20%7C%20unDraw&sid=1699079514&sct=5&seg=1&en=illustrations_scroll&_ee=1&ep.event_category=load_more&ep.event_label=2&tfd=41569"
   ]
  },
  {
   "cell_type": "code",
   "execution_count": 9,
   "metadata": {},
   "outputs": [],
   "source": [
    "url2 = \"https://www.google-analytics.com/g/collect?v=2&tid=G-1R8SGFF7XV&gtm=45je3b11v9123941563&_p=1699079557387&gcd=11l1l1l1l2&ul=en-us&sr=1280x720&cid=43738099.1699024562&ir=1&uaa=x86&uab=64&uafvl=Google%2520Chrome%3B119.0.6045.105%7CChromium%3B119.0.6045.105%7CNot%253FA_Brand%3B24.0.0.0&uamb=0&uam=&uap=Windows&uapv=15.0.0&uaw=0&are=1&_eu=EBAI&_s=3&dl=https%3A%2F%2Fundraw.co%2Fillustrations&dp=%2Fillustrations&dt=Illustrations%20%7C%20unDraw&sid=1699079514&sct=5&seg=1&en=illustrations_scroll&_ee=1&ep.event_category=load_more&ep.event_label=3&tfd=180369\""
   ]
  },
  {
   "cell_type": "code",
   "execution_count": 11,
   "metadata": {},
   "outputs": [
    {
     "data": {
      "text/plain": [
       "[]"
      ]
     },
     "execution_count": 11,
     "metadata": {},
     "output_type": "execute_result"
    }
   ],
   "source": [
    "get_soup(url2).find_all()"
   ]
  },
  {
   "cell_type": "code",
   "execution_count": 19,
   "metadata": {},
   "outputs": [],
   "source": [
    "t = get_soup(\"https://undraw.co/api/illustrations?page=2\")"
   ]
  },
  {
   "cell_type": "code",
   "execution_count": 21,
   "metadata": {},
   "outputs": [
    {
     "data": {
      "text/plain": [
       "{\"illos\":[{\"_id\":\"63bbdc2dee628f0018cccfea\",\"title\":\"Electricity\",\"image\":\"https://42f2671d685f51e10fc6-b9fcecea3e50b3b59bdc28dead054ebc.ssl.cf5.rackcdn.com/illustrations/electricity_k2ft.svg\",\"slug\":\"illustrations-electricity_k2ft\"},{\"_id\":\"63bbd53dee628f0018cccfe9\",\"title\":\"Car repair\",\"image\":\"https://42f2671d685f51e10fc6-b9fcecea3e50b3b59bdc28dead054ebc.ssl.cf5.rackcdn.com/illustrations/automobile_repair_ywci.svg\",\"slug\":\"illustrations-automobile_repair_ywci\"},{\"_id\":\"63b40b2eaa79d60018c76f50\",\"title\":\"Female avatar\",\"image\":\"https://42f2671d685f51e10fc6-b9fcecea3e50b3b59bdc28dead054ebc.ssl.cf5.rackcdn.com/illustrations/Female_avatar_efig.svg\",\"slug\":\"illustrations-female_avatar_efig\"},{\"_id\":\"63b2e601aa79d60018c76f4e\",\"title\":\"New Year 2023\",\"image\":\"https://42f2671d685f51e10fc6-b9fcecea3e50b3b59bdc28dead054ebc.ssl.cf5.rackcdn.com/illustrations/New_Year_2023_pfnc.svg\",\"slug\":\"illustrations-new_year_2023_pfnc\"},{\"_id\":\"63aefe9803384d0018fa8149\",\"title\":\"Happy new year\",\"image\":\"https://42f2671d685f51e10fc6-b9fcecea3e50b3b59bdc28dead054ebc.ssl.cf5.rackcdn.com/illustrations/happy_new_year_di92.svg\",\"slug\":\"illustrations-happy_new_year_di92\"},{\"_id\":\"63aefdf003384d0018fa8148\",\"title\":\"Male avatar\",\"image\":\"https://42f2671d685f51e10fc6-b9fcecea3e50b3b59bdc28dead054ebc.ssl.cf5.rackcdn.com/illustrations/Male_avatar_g98d.svg\",\"slug\":\"illustrations-male_avatar_g98d\"},{\"_id\":\"63adb74136c5fe001819a308\",\"title\":\"Running wild\",\"image\":\"https://42f2671d685f51e10fc6-b9fcecea3e50b3b59bdc28dead054ebc.ssl.cf5.rackcdn.com/illustrations/Running_wild_h6ao.svg\",\"slug\":\"illustrations-running_wild_h6ao\"},{\"_id\":\"63a9be6da9393500186332cd\",\"title\":\"Snow games\",\"image\":\"https://42f2671d685f51e10fc6-b9fcecea3e50b3b59bdc28dead054ebc.ssl.cf5.rackcdn.com/illustrations/snow_games_tq9r.svg\",\"slug\":\"illustrations-snow_games_tq9r\"},{\"_id\":\"63a9bdbba9393500186332cc\",\"title\":\"Decorate Christmas tree\",\"image\":\"https://42f2671d685f51e10fc6-b9fcecea3e50b3b59bdc28dead054ebc.ssl.cf5.rackcdn.com/illustrations/decorate_christmas_tree_rmj0.svg\",\"slug\":\"illustrations-decorate_christmas_tree_rmj0\"},{\"_id\":\"63a07e285a997200184dbada\",\"title\":\"Winter skating\",\"image\":\"https://42f2671d685f51e10fc6-b9fcecea3e50b3b59bdc28dead054ebc.ssl.cf5.rackcdn.com/illustrations/Winter_skating_re_qouk.svg\",\"slug\":\"illustrations-winter_skating_re_qouk\"},{\"_id\":\"639c98ebd334430018773c01\",\"title\":\"Fingerprint login\",\"image\":\"https://42f2671d685f51e10fc6-b9fcecea3e50b3b59bdc28dead054ebc.ssl.cf5.rackcdn.com/illustrations/Fingerprint_login_re_t71l.svg\",\"slug\":\"illustrations-fingerprint_login_re_t71l\"},{\"_id\":\"6398b25ebdfe8e0018d388a3\",\"title\":\"Experience design\",\"image\":\"https://42f2671d685f51e10fc6-b9fcecea3e50b3b59bdc28dead054ebc.ssl.cf5.rackcdn.com/illustrations/Experience_design_re_dmqq.svg\",\"slug\":\"illustrations-experience_design_re_dmqq\"},{\"_id\":\"6384bfb5a5a200001804e8cd\",\"title\":\"Appreciate it\",\"image\":\"https://42f2671d685f51e10fc6-b9fcecea3e50b3b59bdc28dead054ebc.ssl.cf5.rackcdn.com/illustrations/Appreciate_it_re_yc8h.svg\",\"slug\":\"illustrations-appreciate_it_re_yc8h\"},{\"_id\":\"637cade1a1ec5b001835e916\",\"title\":\"Basketball\",\"image\":\"https://42f2671d685f51e10fc6-b9fcecea3e50b3b59bdc28dead054ebc.ssl.cf5.rackcdn.com/illustrations/Basketball_re_7701.svg\",\"slug\":\"illustrations-basketball_re_7701\"},{\"_id\":\"63760ab0be8d690018a841d0\",\"title\":\"Not found\",\"image\":\"https://42f2671d685f51e10fc6-b9fcecea3e50b3b59bdc28dead054ebc.ssl.cf5.rackcdn.com/illustrations/Not_found_re_bh2e.svg\",\"slug\":\"illustrations-not_found_re_bh2e\"},{\"_id\":\"63760a99be8d690018a841cf\",\"title\":\"Baby\",\"image\":\"https://42f2671d685f51e10fc6-b9fcecea3e50b3b59bdc28dead054ebc.ssl.cf5.rackcdn.com/illustrations/Baby_re_fr9r.svg\",\"slug\":\"illustrations-baby_re_fr9r\"},{\"_id\":\"63721cfff823670018b7e9b0\",\"title\":\"Pic profile\",\"image\":\"https://42f2671d685f51e10fc6-b9fcecea3e50b3b59bdc28dead054ebc.ssl.cf5.rackcdn.com/illustrations/Pic_profile_re_7g2h.svg\",\"slug\":\"illustrations-pic_profile_re_7g2h\"},{\"_id\":\"63721cc6f823670018b7e9af\",\"title\":\"Profile pic\",\"image\":\"https://42f2671d685f51e10fc6-b9fcecea3e50b3b59bdc28dead054ebc.ssl.cf5.rackcdn.com/illustrations/Profile_pic_re_iwgo.svg\",\"slug\":\"illustrations-profile_pic_re_iwgo\"},{\"_id\":\"635b97e3c3cf530018b2cfdd\",\"title\":\"Halloween\",\"image\":\"https://42f2671d685f51e10fc6-b9fcecea3e50b3b59bdc28dead054ebc.ssl.cf5.rackcdn.com/illustrations/Halloween_re_2kq1.svg\",\"slug\":\"illustrations-halloween_re_2kq1\"},{\"_id\":\"634683d6838a2d0018e5683e\",\"title\":\"Pumpkin\",\"image\":\"https://42f2671d685f51e10fc6-b9fcecea3e50b3b59bdc28dead054ebc.ssl.cf5.rackcdn.com/illustrations/pumpkin_re_bm46.svg\",\"slug\":\"illustrations-pumpkin_re_bm46\"}],\"hasMore\":true,\"nextPage\":3}"
      ]
     },
     "execution_count": 21,
     "metadata": {},
     "output_type": "execute_result"
    }
   ],
   "source": [
    "t"
   ]
  },
  {
   "cell_type": "code",
   "execution_count": 24,
   "metadata": {},
   "outputs": [],
   "source": [
    "\n",
    "t = str(t)\n",
    "t = json.loads(t)"
   ]
  },
  {
   "cell_type": "code",
   "execution_count": 33,
   "metadata": {},
   "outputs": [
    {
     "data": {
      "text/plain": [
       "20"
      ]
     },
     "execution_count": 33,
     "metadata": {},
     "output_type": "execute_result"
    }
   ],
   "source": [
    "len(t[\"illos\"])"
   ]
  },
  {
   "cell_type": "code",
   "execution_count": 25,
   "metadata": {},
   "outputs": [
    {
     "data": {
      "text/plain": [
       "dict"
      ]
     },
     "execution_count": 25,
     "metadata": {},
     "output_type": "execute_result"
    }
   ],
   "source": [
    "type(t)"
   ]
  }
 ],
 "metadata": {
  "kernelspec": {
   "display_name": "venv",
   "language": "python",
   "name": "python3"
  },
  "language_info": {
   "codemirror_mode": {
    "name": "ipython",
    "version": 3
   },
   "file_extension": ".py",
   "mimetype": "text/x-python",
   "name": "python",
   "nbconvert_exporter": "python",
   "pygments_lexer": "ipython3",
   "version": "3.11.4"
  }
 },
 "nbformat": 4,
 "nbformat_minor": 2
}
