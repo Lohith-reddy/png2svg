{
 "cells": [
  {
   "cell_type": "code",
   "execution_count": 1,
   "metadata": {},
   "outputs": [],
   "source": [
    "from bs4 import BeautifulSoup as bs\n",
    "import requests\n",
    "from requests import get\n",
    "import os"
   ]
  },
  {
   "cell_type": "code",
   "execution_count": 2,
   "metadata": {},
   "outputs": [],
   "source": [
    "url_site = \"https://www.svgrepo.com\""
   ]
  },
  {
   "cell_type": "code",
   "execution_count": 3,
   "metadata": {},
   "outputs": [],
   "source": [
    "def get_soup(url):\n",
    "    return bs(requests.get(url).text, \"html.parser\")"
   ]
  },
  {
   "cell_type": "code",
   "execution_count": 12,
   "metadata": {},
   "outputs": [],
   "source": [
    "#page_URL = \"https://www.svgrepo.com/collections\"\n",
    "def get_page_intra(url_1):\n",
    "\n",
    "    page_links_intra = []\n",
    "    for link in get_soup(url_1).find_all('a'):\n",
    "        svg = link.get('href')\n",
    "\n",
    "        page_links_intra.append(svg)\n",
    "        #print(svg)\n",
    "    return page_links_intra[18:30]"
   ]
  },
  {
   "cell_type": "code",
   "execution_count": 6,
   "metadata": {},
   "outputs": [],
   "source": [
    "#get_page_intra(page_URL)"
   ]
  },
  {
   "cell_type": "code",
   "execution_count": 29,
   "metadata": {},
   "outputs": [],
   "source": [
    "page_URL = \"https://www.svgrepo.com/collections/\"\n",
    "total_pages = []\n",
    "for i in range(1,139,1):\n",
    "    if i ==1:\n",
    "        url_1 = page_URL +str(i)\n",
    "        total_pages.extend(get_page_intra(url_1))\n",
    "    else:\n",
    "        url_1 = page_URL + \"/all/\"+str(i)\n",
    "        total_pages.extend(get_page_intra(url_1))"
   ]
  },
  {
   "cell_type": "code",
   "execution_count": 30,
   "metadata": {},
   "outputs": [],
   "source": [
    "total_pages = [l for l in total_pages if \"https:\" not in l]\n",
    "#total_pages = total_pages[8:]"
   ]
  },
  {
   "cell_type": "code",
   "execution_count": 31,
   "metadata": {},
   "outputs": [
    {
     "data": {
      "text/plain": [
       "1551"
      ]
     },
     "execution_count": 31,
     "metadata": {},
     "output_type": "execute_result"
    }
   ],
   "source": [
    "len(set(total_pages))"
   ]
  },
  {
   "cell_type": "code",
   "execution_count": 33,
   "metadata": {},
   "outputs": [],
   "source": [
    "total_pages = set(total_pages)"
   ]
  },
  {
   "cell_type": "code",
   "execution_count": 34,
   "metadata": {},
   "outputs": [],
   "source": [
    "main_url = \"https://www.svgrepo.com\"\n",
    "#test_url = main_url + \"/collection/food-tritone-icons/\""
   ]
  },
  {
   "cell_type": "code",
   "execution_count": 35,
   "metadata": {},
   "outputs": [],
   "source": [
    "def get_svg_link(URL):\n",
    "    links = []\n",
    "    for link in get_soup(URL).find_all('img'):\n",
    "        svg_link = link.get('src')\n",
    "        links.append(svg_link)\n",
    "        links = [l for l in links if \"https:\" in l]\n",
    "    return links"
   ]
  },
  {
   "cell_type": "code",
   "execution_count": 36,
   "metadata": {},
   "outputs": [],
   "source": [
    "download_links = []\n",
    "for i in total_pages:\n",
    "    svg_url = main_url + i\n",
    "    download_links.extend(get_svg_link(svg_url))"
   ]
  },
  {
   "cell_type": "code",
   "execution_count": 37,
   "metadata": {},
   "outputs": [
    {
     "data": {
      "text/plain": [
       "53098"
      ]
     },
     "execution_count": 37,
     "metadata": {},
     "output_type": "execute_result"
    }
   ],
   "source": [
    "len(set(download_links))"
   ]
  },
  {
   "cell_type": "code",
   "execution_count": 6,
   "metadata": {},
   "outputs": [
    {
     "data": {
      "text/plain": [
       "53098"
      ]
     },
     "execution_count": 6,
     "metadata": {},
     "output_type": "execute_result"
    }
   ],
   "source": [
    "len(download_links)"
   ]
  },
  {
   "cell_type": "code",
   "execution_count": null,
   "metadata": {},
   "outputs": [],
   "source": [
    "#download_links = set(download_links)"
   ]
  },
  {
   "cell_type": "code",
   "execution_count": 2,
   "metadata": {},
   "outputs": [],
   "source": [
    "import pickle\n",
    "file_name = \"download_links.pkl\"\n",
    "#open_file = open(file_name, \"wb\")\n",
    "#pickle.dump(download_links, open_file)\n",
    "#open_file.close()\n",
    "\n",
    "open_file = open(file_name, \"rb\")\n",
    "download_links = pickle.load(open_file)\n",
    "open_file.close()"
   ]
  },
  {
   "cell_type": "code",
   "execution_count": 13,
   "metadata": {},
   "outputs": [],
   "source": [
    "def download_img(img,title):\n",
    "    index = 0\n",
    "    if not os.path.exists(title):\n",
    "        #print(img)\n",
    "        try:\n",
    "            response = requests.get(img)\n",
    "            if response.status_code == 200:\n",
    "                with open(title, 'wb') as file:\n",
    "                    file.write(response.content)\n",
    "                return 1  # Return 1 for a successful download\n",
    "        except Exception as e:\n",
    "            print(f\"Failed to download {title}: {str(e)}\")\n",
    "    return index\n"
   ]
  },
  {
   "cell_type": "code",
   "execution_count": 5,
   "metadata": {},
   "outputs": [],
   "source": [
    "#names = os.listdir(\"data/\")\n",
    "#len(names)"
   ]
  },
  {
   "cell_type": "code",
   "execution_count": 12,
   "metadata": {},
   "outputs": [],
   "source": [
    "import multiprocessing\n",
    "\n",
    "# Function to download an image and update the index\n",
    "def download_and_update(img_title):\n",
    "    img, title = img_title\n",
    "    title = \"data/\" + title\n",
    "    index = download_img(img, title)\n",
    "    return index # Return a flag (1) for a successful download\n",
    "\n",
    "def main():\n",
    "    global download_links  # Access the global variable download_links\n",
    "    num_processes = 8  # You can adjust the number of processes as needed\n",
    "\n",
    "    pool = multiprocessing.Pool(num_processes)\n",
    "    successful_downloads = 0\n",
    "\n",
    "    for img in download_links:\n",
    "        title = img.split(\"/\")[-1]\n",
    "        \n",
    "        # Download the image and check for success\n",
    "        success_flag = download_and_update((img, title))\n",
    "        if success_flag == 1:\n",
    "            successful_downloads += 1\n",
    "            if successful_downloads % 100 == 0:\n",
    "                print(f\"{successful_downloads} images downloaded\")\n",
    "\n",
    "    # Close the pool after the loop\n",
    "    pool.close()\n",
    "    pool.join()\n",
    "\n",
    "    print(f\"All {successful_downloads} downloads completed.\")\n",
    "\n"
   ]
  },
  {
   "cell_type": "code",
   "execution_count": 14,
   "metadata": {},
   "outputs": [
    {
     "name": "stdout",
     "output_type": "stream",
     "text": [
      "100 images downloaded\n",
      "200 images downloaded\n",
      "300 images downloaded\n",
      "400 images downloaded\n",
      "500 images downloaded\n",
      "600 images downloaded\n",
      "700 images downloaded\n",
      "800 images downloaded\n",
      "900 images downloaded\n",
      "1000 images downloaded\n",
      "1100 images downloaded\n",
      "1200 images downloaded\n",
      "1300 images downloaded\n",
      "1400 images downloaded\n",
      "1500 images downloaded\n",
      "1600 images downloaded\n",
      "1700 images downloaded\n",
      "1800 images downloaded\n",
      "1900 images downloaded\n",
      "2000 images downloaded\n",
      "2100 images downloaded\n",
      "2200 images downloaded\n",
      "Failed to download data/down-left.svg: HTTPSConnectionPool(host='www.svgrepo.com', port=443): Read timed out. (read timeout=None)\n",
      "2300 images downloaded\n",
      "2400 images downloaded\n",
      "2500 images downloaded\n",
      "2600 images downloaded\n",
      "2700 images downloaded\n",
      "2800 images downloaded\n",
      "2900 images downloaded\n",
      "3000 images downloaded\n",
      "3100 images downloaded\n",
      "3200 images downloaded\n",
      "3300 images downloaded\n",
      "3400 images downloaded\n",
      "3500 images downloaded\n",
      "3600 images downloaded\n",
      "3700 images downloaded\n",
      "3800 images downloaded\n",
      "3900 images downloaded\n",
      "4000 images downloaded\n",
      "4100 images downloaded\n",
      "4200 images downloaded\n",
      "4300 images downloaded\n",
      "4400 images downloaded\n",
      "4500 images downloaded\n",
      "4600 images downloaded\n",
      "Failed to download data/review.svg?post_id=374580&theme=light: [Errno 22] Invalid argument: 'data/review.svg?post_id=374580&theme=light'\n",
      "All 4617 downloads completed.\n"
     ]
    }
   ],
   "source": [
    "if __name__ == \"__main__\":\n",
    "    \n",
    "    main()"
   ]
  },
  {
   "cell_type": "code",
   "execution_count": 10,
   "metadata": {},
   "outputs": [
    {
     "name": "stdout",
     "output_type": "stream",
     "text": [
      "Number of cpu :  12\n"
     ]
    }
   ],
   "source": [
    "print(\"Number of cpu : \", multiprocessing.cpu_count())"
   ]
  }
 ],
 "metadata": {
  "kernelspec": {
   "display_name": "ML",
   "language": "python",
   "name": "python3"
  },
  "language_info": {
   "codemirror_mode": {
    "name": "ipython",
    "version": 3
   },
   "file_extension": ".py",
   "mimetype": "text/x-python",
   "name": "python",
   "nbconvert_exporter": "python",
   "pygments_lexer": "ipython3",
   "version": "3.10.11"
  }
 },
 "nbformat": 4,
 "nbformat_minor": 2
}
